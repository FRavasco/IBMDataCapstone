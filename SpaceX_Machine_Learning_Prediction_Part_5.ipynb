{
  "cells": [
    {
      "cell_type": "markdown",
      "metadata": {
        "id": "view-in-github",
        "colab_type": "text"
      },
      "source": [
        "<a href=\"https://colab.research.google.com/github/FRavasco/IBMDataCapstone/blob/main/SpaceX_Machine_Learning_Prediction_Part_5.ipynb\" target=\"_parent\"><img src=\"https://colab.research.google.com/assets/colab-badge.svg\" alt=\"Open In Colab\"/></a>"
      ]
    },
    {
      "cell_type": "markdown",
      "metadata": {
        "id": "SwJBMuyP3fTS"
      },
      "source": [
        "<p style=\"text-align:center\">\n",
        "    <a href=\"https://skills.network/?utm_medium=Exinfluencer&utm_source=Exinfluencer&utm_content=000026UJ&utm_term=10006555&utm_id=NA-SkillsNetwork-Channel-SkillsNetworkCoursesIBMDS0321ENSkillsNetwork26802033-2022-01-01\" target=\"_blank\">\n",
        "    <img src=\"https://cf-courses-data.s3.us.cloud-object-storage.appdomain.cloud/assets/logos/SN_web_lightmode.png\" width=\"200\" alt=\"Skills Network Logo\"  />\n",
        "    </a>\n",
        "</p>\n"
      ]
    },
    {
      "cell_type": "markdown",
      "metadata": {
        "id": "DDMfyAOQ3fTV"
      },
      "source": [
        "# **Space X  Falcon 9 First Stage Landing Prediction**\n"
      ]
    },
    {
      "cell_type": "markdown",
      "metadata": {
        "id": "X09J3W1c3fTW"
      },
      "source": [
        "## Assignment:  Machine Learning Prediction\n"
      ]
    },
    {
      "cell_type": "markdown",
      "metadata": {
        "id": "ow2IN1JT3fTW"
      },
      "source": [
        "Estimated time needed: **60** minutes\n"
      ]
    },
    {
      "cell_type": "markdown",
      "metadata": {
        "id": "YDc8UjB_3fTX"
      },
      "source": [
        "Space X advertises Falcon 9 rocket launches on its website with a cost of 62 million dollars; other providers cost upward of 165 million dollars each, much of the savings is because Space X can reuse the first stage. Therefore if we can determine if the first stage will land, we can determine the cost of a launch. This information can be used if an alternate company wants to bid against space X for a rocket launch.   In this lab, you will create a machine learning pipeline  to predict if the first stage will land given the data from the preceding labs.\n"
      ]
    },
    {
      "cell_type": "markdown",
      "metadata": {
        "id": "8c1KHBiB3fTX"
      },
      "source": [
        "![](https://cf-courses-data.s3.us.cloud-object-storage.appdomain.cloud/IBMDeveloperSkillsNetwork-DS0701EN-SkillsNetwork/api/Images/landing\\_1.gif)\n"
      ]
    },
    {
      "cell_type": "markdown",
      "metadata": {
        "id": "3AUVXHgy3fTY"
      },
      "source": [
        "Several examples of an unsuccessful landing are shown here:\n"
      ]
    },
    {
      "cell_type": "markdown",
      "metadata": {
        "id": "4aXHHJSk3fTY"
      },
      "source": [
        "![](https://cf-courses-data.s3.us.cloud-object-storage.appdomain.cloud/IBMDeveloperSkillsNetwork-DS0701EN-SkillsNetwork/api/Images/crash.gif)\n"
      ]
    },
    {
      "cell_type": "markdown",
      "metadata": {
        "id": "_iZ2Lf-03fTY"
      },
      "source": [
        "Most unsuccessful landings are planed. Space X; performs a controlled landing in the oceans.\n"
      ]
    },
    {
      "cell_type": "markdown",
      "metadata": {
        "id": "Po1--3fW3fTZ"
      },
      "source": [
        "## Objectives\n"
      ]
    },
    {
      "cell_type": "markdown",
      "metadata": {
        "id": "_Tk8ekL33fTZ"
      },
      "source": [
        "Perform exploratory  Data Analysis and determine Training Labels\n",
        "\n",
        "*   create a column for the class\n",
        "*   Standardize the data\n",
        "*   Split into training data and test data\n",
        "\n",
        "\\-Find best Hyperparameter for SVM, Classification Trees and Logistic Regression\n",
        "\n",
        "*   Find the method performs best using test data\n"
      ]
    },
    {
      "cell_type": "markdown",
      "metadata": {
        "id": "0flgpy963fTZ"
      },
      "source": [
        ""
      ]
    },
    {
      "cell_type": "markdown",
      "metadata": {
        "id": "h4fgLj3O3fTa"
      },
      "source": [
        "***\n"
      ]
    },
    {
      "cell_type": "markdown",
      "metadata": {
        "id": "7E8xq_aV3fTa"
      },
      "source": [
        "## Import Libraries and Define Auxiliary Functions\n"
      ]
    },
    {
      "cell_type": "markdown",
      "metadata": {
        "id": "WdMFZJn73fTa"
      },
      "source": [
        "We will import the following libraries for the lab\n"
      ]
    },
    {
      "cell_type": "code",
      "execution_count": null,
      "metadata": {
        "id": "r2a-T7Ee3fTb"
      },
      "outputs": [],
      "source": [
        "# Pandas is a software library written for the Python programming language for data manipulation and analysis.\n",
        "import pandas as pd\n",
        "# NumPy is a library for the Python programming language, adding support for large, multi-dimensional arrays and matrices, along with a large collection of high-level mathematical functions to operate on these arrays\n",
        "import numpy as np\n",
        "# Matplotlib is a plotting library for python and pyplot gives us a MatLab like plotting framework. We will use this in our plotter function to plot data.\n",
        "import matplotlib.pyplot as plt\n",
        "#Seaborn is a Python data visualization library based on matplotlib. It provides a high-level interface for drawing attractive and informative statistical graphics\n",
        "import seaborn as sns\n",
        "# Preprocessing allows us to standarsize our data\n",
        "from sklearn import preprocessing\n",
        "# Allows us to split our data into training and testing data\n",
        "from sklearn.model_selection import train_test_split\n",
        "# Allows us to test parameters of classification algorithms and find the best one\n",
        "from sklearn.model_selection import GridSearchCV\n",
        "# Logistic Regression classification algorithm\n",
        "from sklearn.linear_model import LogisticRegression\n",
        "# Support Vector Machine classification algorithm\n",
        "from sklearn.svm import SVC\n",
        "# Decision Tree classification algorithm\n",
        "from sklearn.tree import DecisionTreeClassifier\n",
        "# K Nearest Neighbors classification algorithm\n",
        "from sklearn.neighbors import KNeighborsClassifier"
      ]
    },
    {
      "cell_type": "markdown",
      "metadata": {
        "id": "ymYB8NJC3fTc"
      },
      "source": [
        "This function is to plot the confusion matrix.\n"
      ]
    },
    {
      "cell_type": "code",
      "execution_count": null,
      "metadata": {
        "id": "IqMeSgWQ3fTd"
      },
      "outputs": [],
      "source": [
        "def plot_confusion_matrix(y,y_predict):\n",
        "    \"this function plots the confusion matrix\"\n",
        "    from sklearn.metrics import confusion_matrix\n",
        "\n",
        "    cm = confusion_matrix(y, y_predict)\n",
        "    ax= plt.subplot()\n",
        "    sns.heatmap(cm, annot=True, ax = ax); #annot=True to annotate cells\n",
        "    ax.set_xlabel('Predicted labels')\n",
        "    ax.set_ylabel('True labels')\n",
        "    ax.set_title('Confusion Matrix'); \n",
        "    ax.xaxis.set_ticklabels(['did not land', 'land']); ax.yaxis.set_ticklabels(['did not land', 'landed'])"
      ]
    },
    {
      "cell_type": "markdown",
      "metadata": {
        "id": "Nwtf7tYN3fTe"
      },
      "source": [
        "## Load the dataframe\n"
      ]
    },
    {
      "cell_type": "markdown",
      "metadata": {
        "id": "bwEk5Yi_3fTe"
      },
      "source": [
        "Load the data\n"
      ]
    },
    {
      "cell_type": "code",
      "execution_count": null,
      "metadata": {
        "id": "fvpeieTy3fTf"
      },
      "outputs": [],
      "source": [
        "data = pd.read_csv(\"https://cf-courses-data.s3.us.cloud-object-storage.appdomain.cloud/IBM-DS0321EN-SkillsNetwork/datasets/dataset_part_2.csv\")\n",
        "\n",
        "# If you were unable to complete the previous lab correctly you can uncomment and load this csv\n",
        "\n",
        "# data = pd.read_csv('https://cf-courses-data.s3.us.cloud-object-storage.appdomain.cloud/IBMDeveloperSkillsNetwork-DS0701EN-SkillsNetwork/api/dataset_part_2.csv')\n",
        "\n",
        "data.head()"
      ]
    },
    {
      "cell_type": "code",
      "execution_count": null,
      "metadata": {
        "id": "vhqq0Jqa3fTg"
      },
      "outputs": [],
      "source": [
        "X = pd.read_csv('https://cf-courses-data.s3.us.cloud-object-storage.appdomain.cloud/IBM-DS0321EN-SkillsNetwork/datasets/dataset_part_3.csv')\n",
        "\n",
        "# If you were unable to complete the previous lab correctly you can uncomment and load this csv\n",
        "\n",
        "# X = pd.read_csv('https://cf-courses-data.s3.us.cloud-object-storage.appdomain.cloud/IBMDeveloperSkillsNetwork-DS0701EN-SkillsNetwork/api/dataset_part_3.csv')\n",
        "\n",
        "X.head(100)"
      ]
    },
    {
      "cell_type": "markdown",
      "metadata": {
        "id": "goNr-cOx3fTg"
      },
      "source": [
        "## TASK  1\n"
      ]
    },
    {
      "cell_type": "markdown",
      "metadata": {
        "id": "NhuufSVY3fTg"
      },
      "source": [
        "Create a NumPy array from the column <code>Class</code> in <code>data</code>, by applying the method <code>to_numpy()</code>  then\n",
        "assign it  to the variable <code>Y</code>,make sure the output is a  Pandas series (only one bracket df\\['name of  column']).\n"
      ]
    },
    {
      "cell_type": "code",
      "execution_count": null,
      "metadata": {
        "id": "aCW2qI853fTh"
      },
      "outputs": [],
      "source": [
        ""
      ]
    },
    {
      "cell_type": "markdown",
      "metadata": {
        "id": "BhdSOLc53fTh"
      },
      "source": [
        "## TASK  2\n"
      ]
    },
    {
      "cell_type": "markdown",
      "metadata": {
        "id": "7S48TQx-3fTi"
      },
      "source": [
        "Standardize the data in <code>X</code> then reassign it to the variable  <code>X</code> using the transform provided below.\n"
      ]
    },
    {
      "cell_type": "code",
      "execution_count": null,
      "metadata": {
        "id": "oUOB_Nh23fTi"
      },
      "outputs": [],
      "source": [
        "# students get this \n",
        "transform = preprocessing.StandardScaler()"
      ]
    },
    {
      "cell_type": "code",
      "execution_count": null,
      "metadata": {
        "id": "LjZpOXia3fTi"
      },
      "outputs": [],
      "source": [
        ""
      ]
    },
    {
      "cell_type": "markdown",
      "metadata": {
        "id": "cKM8qdPs3fTj"
      },
      "source": [
        "We split the data into training and testing data using the  function  <code>train_test_split</code>.   The training data is divided into validation data, a second set used for training  data; then the models are trained and hyperparameters are selected using the function <code>GridSearchCV</code>.\n"
      ]
    },
    {
      "cell_type": "markdown",
      "metadata": {
        "id": "YQriVKsR3fTj"
      },
      "source": [
        "## TASK  3\n"
      ]
    },
    {
      "cell_type": "markdown",
      "metadata": {
        "id": "gwdyzUDF3fTj"
      },
      "source": [
        "Use the function train_test_split to split the data X and Y into training and test data. Set the parameter test_size to  0.2 and random_state to 2. The training data and test data should be assigned to the following labels.\n"
      ]
    },
    {
      "cell_type": "markdown",
      "metadata": {
        "id": "Y-XNLQE33fTj"
      },
      "source": [
        "<code>X_train, X_test, Y_train, Y_test</code>\n"
      ]
    },
    {
      "cell_type": "code",
      "execution_count": null,
      "metadata": {
        "id": "QGPvStqz3fTk"
      },
      "outputs": [],
      "source": [
        ""
      ]
    },
    {
      "cell_type": "markdown",
      "metadata": {
        "id": "aS6uoG043fTk"
      },
      "source": [
        "we can see we only have 18 test samples.\n"
      ]
    },
    {
      "cell_type": "code",
      "execution_count": null,
      "metadata": {
        "id": "V7Z0oSI63fTk"
      },
      "outputs": [],
      "source": [
        "Y_test.shape"
      ]
    },
    {
      "cell_type": "markdown",
      "metadata": {
        "id": "3NX4vFAW3fTk"
      },
      "source": [
        "## TASK  4\n"
      ]
    },
    {
      "cell_type": "markdown",
      "metadata": {
        "id": "U7Bg63os3fTk"
      },
      "source": [
        "Create a logistic regression object  then create a  GridSearchCV object  <code>logreg_cv</code> with cv = 10.  Fit the object to find the best parameters from the dictionary <code>parameters</code>.\n"
      ]
    },
    {
      "cell_type": "code",
      "execution_count": null,
      "metadata": {
        "id": "AA7ezPrd3fTk"
      },
      "outputs": [],
      "source": [
        "parameters ={'C':[0.01,0.1,1],\n",
        "             'penalty':['l2'],\n",
        "             'solver':['lbfgs']}"
      ]
    },
    {
      "cell_type": "code",
      "execution_count": null,
      "metadata": {
        "id": "EVDrG3wS3fTl"
      },
      "outputs": [],
      "source": [
        "parameters ={\"C\":[0.01,0.1,1],'penalty':['l2'], 'solver':['lbfgs']}# l1 lasso l2 ridge\n",
        "lr=LogisticRegression()\n"
      ]
    },
    {
      "cell_type": "markdown",
      "metadata": {
        "id": "BD0377hn3fTl"
      },
      "source": [
        "We output the <code>GridSearchCV</code> object for logistic regression. We display the best parameters using the data attribute <code>best_params\\_</code> and the accuracy on the validation data using the data attribute <code>best_score\\_</code>.\n"
      ]
    },
    {
      "cell_type": "code",
      "execution_count": null,
      "metadata": {
        "id": "yhDgQ4CG3fTl"
      },
      "outputs": [],
      "source": [
        "print(\"tuned hpyerparameters :(best parameters) \",logreg_cv.best_params_)\n",
        "print(\"accuracy :\",logreg_cv.best_score_)"
      ]
    },
    {
      "cell_type": "markdown",
      "metadata": {
        "id": "Lxp-kWmd3fTl"
      },
      "source": [
        "## TASK  5\n"
      ]
    },
    {
      "cell_type": "markdown",
      "metadata": {
        "id": "L1UvkDoV3fTl"
      },
      "source": [
        "Calculate the accuracy on the test data using the method <code>score</code>:\n"
      ]
    },
    {
      "cell_type": "code",
      "execution_count": null,
      "metadata": {
        "id": "_taCdiU_3fTl"
      },
      "outputs": [],
      "source": [
        ""
      ]
    },
    {
      "cell_type": "markdown",
      "metadata": {
        "id": "g4zpQ06z3fTl"
      },
      "source": [
        "Lets look at the confusion matrix:\n"
      ]
    },
    {
      "cell_type": "code",
      "execution_count": null,
      "metadata": {
        "id": "E0RLBYrI3fTm"
      },
      "outputs": [],
      "source": [
        "yhat=logreg_cv.predict(X_test)\n",
        "plot_confusion_matrix(Y_test,yhat)"
      ]
    },
    {
      "cell_type": "markdown",
      "metadata": {
        "id": "5NAm4IQx3fTm"
      },
      "source": [
        "Examining the confusion matrix, we see that logistic regression can distinguish between the different classes.  We see that the major problem is false positives.\n"
      ]
    },
    {
      "cell_type": "markdown",
      "metadata": {
        "id": "Qsk-wavp3fTm"
      },
      "source": [
        "## TASK  6\n"
      ]
    },
    {
      "cell_type": "markdown",
      "metadata": {
        "id": "0hE3ZKr13fTm"
      },
      "source": [
        "Create a support vector machine object then  create a  <code>GridSearchCV</code> object  <code>svm_cv</code> with cv - 10.  Fit the object to find the best parameters from the dictionary <code>parameters</code>.\n"
      ]
    },
    {
      "cell_type": "code",
      "execution_count": null,
      "metadata": {
        "id": "5LwdH_oj3fTm"
      },
      "outputs": [],
      "source": [
        "parameters = {'kernel':('linear', 'rbf','poly','rbf', 'sigmoid'),\n",
        "              'C': np.logspace(-3, 3, 5),\n",
        "              'gamma':np.logspace(-3, 3, 5)}\n",
        "svm = SVC()"
      ]
    },
    {
      "cell_type": "code",
      "execution_count": null,
      "metadata": {
        "id": "6W5SHjj93fTm"
      },
      "outputs": [],
      "source": [
        ""
      ]
    },
    {
      "cell_type": "code",
      "execution_count": null,
      "metadata": {
        "id": "Zk_lim9E3fTm"
      },
      "outputs": [],
      "source": [
        "print(\"tuned hpyerparameters :(best parameters) \",svm_cv.best_params_)\n",
        "print(\"accuracy :\",svm_cv.best_score_)"
      ]
    },
    {
      "cell_type": "markdown",
      "metadata": {
        "id": "k5Ji3gEE3fTm"
      },
      "source": [
        "## TASK  7\n"
      ]
    },
    {
      "cell_type": "markdown",
      "metadata": {
        "id": "cr2VYFV43fTn"
      },
      "source": [
        "Calculate the accuracy on the test data using the method <code>score</code>:\n"
      ]
    },
    {
      "cell_type": "code",
      "execution_count": null,
      "metadata": {
        "id": "bUIEfJ3e3fTn"
      },
      "outputs": [],
      "source": [
        ""
      ]
    },
    {
      "cell_type": "markdown",
      "metadata": {
        "id": "SJhQi2zM3fTn"
      },
      "source": [
        "We can plot the confusion matrix\n"
      ]
    },
    {
      "cell_type": "code",
      "execution_count": null,
      "metadata": {
        "id": "fe8CNd3D3fTn"
      },
      "outputs": [],
      "source": [
        "yhat=svm_cv.predict(X_test)\n",
        "plot_confusion_matrix(Y_test,yhat)"
      ]
    },
    {
      "cell_type": "markdown",
      "metadata": {
        "id": "4PNjhW563fTn"
      },
      "source": [
        "## TASK  8\n"
      ]
    },
    {
      "cell_type": "markdown",
      "metadata": {
        "id": "n72epGQX3fTn"
      },
      "source": [
        "Create a decision tree classifier object then  create a  <code>GridSearchCV</code> object  <code>tree_cv</code> with cv = 10.  Fit the object to find the best parameters from the dictionary <code>parameters</code>.\n"
      ]
    },
    {
      "cell_type": "code",
      "execution_count": null,
      "metadata": {
        "id": "PLcLGiI33fTn"
      },
      "outputs": [],
      "source": [
        "parameters = {'criterion': ['gini', 'entropy'],\n",
        "     'splitter': ['best', 'random'],\n",
        "     'max_depth': [2*n for n in range(1,10)],\n",
        "     'max_features': ['auto', 'sqrt'],\n",
        "     'min_samples_leaf': [1, 2, 4],\n",
        "     'min_samples_split': [2, 5, 10]}\n",
        "\n",
        "tree = DecisionTreeClassifier()"
      ]
    },
    {
      "cell_type": "code",
      "execution_count": null,
      "metadata": {
        "id": "dSvMXHSY3fTo"
      },
      "outputs": [],
      "source": [
        ""
      ]
    },
    {
      "cell_type": "code",
      "execution_count": null,
      "metadata": {
        "id": "Eykj4nbe3fTo"
      },
      "outputs": [],
      "source": [
        "print(\"tuned hpyerparameters :(best parameters) \",tree_cv.best_params_)\n",
        "print(\"accuracy :\",tree_cv.best_score_)"
      ]
    },
    {
      "cell_type": "markdown",
      "metadata": {
        "id": "VZRsJAwt3fTo"
      },
      "source": [
        "## TASK  9\n"
      ]
    },
    {
      "cell_type": "markdown",
      "metadata": {
        "id": "dL0oNX403fTo"
      },
      "source": [
        "Calculate the accuracy of tree_cv on the test data using the method <code>score</code>:\n"
      ]
    },
    {
      "cell_type": "code",
      "execution_count": null,
      "metadata": {
        "id": "QQomicD63fTo"
      },
      "outputs": [],
      "source": [
        ""
      ]
    },
    {
      "cell_type": "markdown",
      "metadata": {
        "id": "P_F4JppA3fTo"
      },
      "source": [
        "We can plot the confusion matrix\n"
      ]
    },
    {
      "cell_type": "code",
      "execution_count": null,
      "metadata": {
        "id": "_Mbc5UKy3fTo"
      },
      "outputs": [],
      "source": [
        "yhat = svm_cv.predict(X_test)\n",
        "plot_confusion_matrix(Y_test,yhat)"
      ]
    },
    {
      "cell_type": "markdown",
      "metadata": {
        "id": "2OghblRs3fTo"
      },
      "source": [
        "## TASK  10\n"
      ]
    },
    {
      "cell_type": "markdown",
      "metadata": {
        "id": "XKHJTHoD3fTo"
      },
      "source": [
        "Create a k nearest neighbors object then  create a  <code>GridSearchCV</code> object  <code>knn_cv</code> with cv = 10.  Fit the object to find the best parameters from the dictionary <code>parameters</code>.\n"
      ]
    },
    {
      "cell_type": "code",
      "execution_count": null,
      "metadata": {
        "id": "ir5pVwQn3fTp"
      },
      "outputs": [],
      "source": [
        "parameters = {'n_neighbors': [1, 2, 3, 4, 5, 6, 7, 8, 9, 10],\n",
        "              'algorithm': ['auto', 'ball_tree', 'kd_tree', 'brute'],\n",
        "              'p': [1,2]}\n",
        "\n",
        "KNN = KNeighborsClassifier()"
      ]
    },
    {
      "cell_type": "code",
      "execution_count": null,
      "metadata": {
        "id": "pSEKxHZr3fTp"
      },
      "outputs": [],
      "source": [
        "\n"
      ]
    },
    {
      "cell_type": "code",
      "execution_count": null,
      "metadata": {
        "id": "F8hX1mZW3fTp"
      },
      "outputs": [],
      "source": [
        "print(\"tuned hpyerparameters :(best parameters) \",knn_cv.best_params_)\n",
        "print(\"accuracy :\",knn_cv.best_score_)"
      ]
    },
    {
      "cell_type": "markdown",
      "metadata": {
        "id": "8_XcqBlU3fTp"
      },
      "source": [
        "## TASK  11\n"
      ]
    },
    {
      "cell_type": "markdown",
      "metadata": {
        "id": "YaQ85Wz83fTp"
      },
      "source": [
        "Calculate the accuracy of tree_cv on the test data using the method <code>score</code>:\n"
      ]
    },
    {
      "cell_type": "code",
      "execution_count": null,
      "metadata": {
        "id": "zbMjXLTf3fTp"
      },
      "outputs": [],
      "source": [
        ""
      ]
    },
    {
      "cell_type": "markdown",
      "metadata": {
        "id": "ABUPyLIY3fTp"
      },
      "source": [
        "We can plot the confusion matrix\n"
      ]
    },
    {
      "cell_type": "code",
      "execution_count": null,
      "metadata": {
        "id": "lSnkNdZe3fTp"
      },
      "outputs": [],
      "source": [
        "yhat = knn_cv.predict(X_test)\n",
        "plot_confusion_matrix(Y_test,yhat)"
      ]
    },
    {
      "cell_type": "markdown",
      "metadata": {
        "id": "_pUVGEHW3fTq"
      },
      "source": [
        "## TASK  12\n"
      ]
    },
    {
      "cell_type": "markdown",
      "metadata": {
        "id": "b5zfqsQR3fTq"
      },
      "source": [
        "Find the method performs best:\n"
      ]
    },
    {
      "cell_type": "code",
      "execution_count": null,
      "metadata": {
        "id": "UX3j0c773fTq"
      },
      "outputs": [],
      "source": [
        ""
      ]
    },
    {
      "cell_type": "markdown",
      "metadata": {
        "id": "6bIgMWZY3fTq"
      },
      "source": [
        "## Authors\n"
      ]
    },
    {
      "cell_type": "markdown",
      "metadata": {
        "id": "ANon5Qz23fTq"
      },
      "source": [
        "<a href=\"https://www.linkedin.com/in/joseph-s-50398b136/?utm_medium=Exinfluencer&utm_source=Exinfluencer&utm_content=000026UJ&utm_term=10006555&utm_id=NA-SkillsNetwork-Channel-SkillsNetworkCoursesIBMDS0321ENSkillsNetwork26802033-2022-01-01\">Joseph Santarcangelo</a> has a PhD in Electrical Engineering, his research focused on using machine learning, signal processing, and computer vision to determine how videos impact human cognition. Joseph has been working for IBM since he completed his PhD.\n"
      ]
    },
    {
      "cell_type": "markdown",
      "metadata": {
        "id": "5WFbFhFJ3fTq"
      },
      "source": [
        "## Change Log\n"
      ]
    },
    {
      "cell_type": "markdown",
      "metadata": {
        "id": "-SAO2n0M3fTq"
      },
      "source": [
        "| Date (YYYY-MM-DD) | Version | Changed By    | Change Description      |\n",
        "| ----------------- | ------- | ------------- | ----------------------- |\n",
        "| 2021-08-31        | 1.1     | Lakshmi Holla | Modified markdown       |\n",
        "| 2020-09-20        | 1.0     | Joseph        | Modified Multiple Areas |\n"
      ]
    },
    {
      "cell_type": "markdown",
      "metadata": {
        "id": "1AkHMWWF3fTq"
      },
      "source": [
        "Copyright © 2020 IBM Corporation. All rights reserved.\n"
      ]
    }
  ],
  "metadata": {
    "kernelspec": {
      "display_name": "Python 3",
      "language": "python",
      "name": "python3"
    },
    "language_info": {
      "codemirror_mode": {
        "name": "ipython",
        "version": 3
      },
      "file_extension": ".py",
      "mimetype": "text/x-python",
      "name": "python",
      "nbconvert_exporter": "python",
      "pygments_lexer": "ipython3",
      "version": "3.8.8"
    },
    "colab": {
      "name": "SpaceX_Machine Learning Prediction_Part_5.ipynb",
      "provenance": [],
      "include_colab_link": true
    }
  },
  "nbformat": 4,
  "nbformat_minor": 0
}